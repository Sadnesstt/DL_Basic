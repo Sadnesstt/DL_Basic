{
 "cells": [
  {
   "cell_type": "markdown",
   "id": "f137eae3",
   "metadata": {},
   "source": [
    "## How to use GPU"
   ]
  },
  {
   "cell_type": "code",
   "execution_count": 1,
   "id": "4881a3b5",
   "metadata": {},
   "outputs": [],
   "source": [
    "import torch\n",
    "import torch.nn as nn"
   ]
  },
  {
   "cell_type": "markdown",
   "id": "f2ddcb36",
   "metadata": {},
   "source": [
    "## Convert to CUDA tensor: cuda()\n",
    "같은 device에 있는 tensor들끼리만 연산이 가능하다"
   ]
  },
  {
   "cell_type": "code",
   "execution_count": 2,
   "id": "ef798e94",
   "metadata": {},
   "outputs": [
    {
     "ename": "TypeError",
     "evalue": "type torch.cuda.FloatTensor not available. Torch not compiled with CUDA enabled.",
     "output_type": "error",
     "traceback": [
      "\u001b[1;31m---------------------------------------------------------------------------\u001b[0m",
      "\u001b[1;31mTypeError\u001b[0m                                 Traceback (most recent call last)",
      "Input \u001b[1;32mIn [2]\u001b[0m, in \u001b[0;36m<cell line: 1>\u001b[1;34m()\u001b[0m\n\u001b[1;32m----> 1\u001b[0m x \u001b[38;5;241m=\u001b[39m \u001b[43mtorch\u001b[49m\u001b[38;5;241;43m.\u001b[39;49m\u001b[43mcuda\u001b[49m\u001b[38;5;241;43m.\u001b[39;49m\u001b[43mFloatTensor\u001b[49m\u001b[43m(\u001b[49m\u001b[38;5;241;43m2\u001b[39;49m\u001b[43m,\u001b[49m\u001b[43m \u001b[49m\u001b[38;5;241;43m2\u001b[39;49m\u001b[43m)\u001b[49m\n\u001b[0;32m      2\u001b[0m x\n",
      "\u001b[1;31mTypeError\u001b[0m: type torch.cuda.FloatTensor not available. Torch not compiled with CUDA enabled."
     ]
    }
   ],
   "source": [
    "x = torch.cuda.FloatTensor(2, 2)\n",
    "x"
   ]
  },
  {
   "cell_type": "code",
   "execution_count": null,
   "id": "d1255753",
   "metadata": {},
   "outputs": [],
   "source": [
    "x = torch.FloatTensor(2, 2)\n",
    "x # cpu에 있다가"
   ]
  },
  {
   "cell_type": "code",
   "execution_count": null,
   "id": "f2db0ccb",
   "metadata": {},
   "outputs": [],
   "source": [
    "x.cuda() # gpu로 갈 수 있음."
   ]
  },
  {
   "cell_type": "code",
   "execution_count": null,
   "id": "67936939",
   "metadata": {},
   "outputs": [],
   "source": [
    "d = torch.device('cuda:0') # gpu 주소 지정이 가능함."
   ]
  },
  {
   "cell_type": "code",
   "execution_count": null,
   "id": "22ca3b06",
   "metadata": {},
   "outputs": [],
   "source": [
    "x.cuda(device = d) # tensor의 경우 복사가됨."
   ]
  },
  {
   "cell_type": "code",
   "execution_count": null,
   "id": "f1f6bd45",
   "metadata": {},
   "outputs": [],
   "source": [
    "x.device"
   ]
  },
  {
   "cell_type": "markdown",
   "id": "776cb9f2",
   "metadata": {},
   "source": [
    "## Convert to CUDA tensor: to()"
   ]
  },
  {
   "cell_type": "code",
   "execution_count": 3,
   "id": "c3924e40",
   "metadata": {},
   "outputs": [
    {
     "ename": "NameError",
     "evalue": "name 'x' is not defined",
     "output_type": "error",
     "traceback": [
      "\u001b[1;31m---------------------------------------------------------------------------\u001b[0m",
      "\u001b[1;31mNameError\u001b[0m                                 Traceback (most recent call last)",
      "Input \u001b[1;32mIn [3]\u001b[0m, in \u001b[0;36m<cell line: 1>\u001b[1;34m()\u001b[0m\n\u001b[1;32m----> 1\u001b[0m \u001b[43mx\u001b[49m\u001b[38;5;241m.\u001b[39mto(device \u001b[38;5;241m=\u001b[39m d)\n",
      "\u001b[1;31mNameError\u001b[0m: name 'x' is not defined"
     ]
    }
   ],
   "source": [
    "x.to(device = d)"
   ]
  },
  {
   "cell_type": "markdown",
   "id": "18ecba6d",
   "metadata": {},
   "source": [
    "## Convert to CPU tensor from CUDA tensor"
   ]
  },
  {
   "cell_type": "code",
   "execution_count": null,
   "id": "9e578c0a",
   "metadata": {},
   "outputs": [],
   "source": [
    "x = torch.cuda.FloatTensor(2, 2)"
   ]
  },
  {
   "cell_type": "code",
   "execution_count": null,
   "id": "64f7b166",
   "metadata": {},
   "outputs": [],
   "source": [
    "x = x.cpu()"
   ]
  },
  {
   "cell_type": "code",
   "execution_count": null,
   "id": "f857db0d",
   "metadata": {},
   "outputs": [],
   "source": [
    "d = torch.device('cpu')\n",
    "x = x.to(d)"
   ]
  },
  {
   "cell_type": "markdown",
   "id": "dd766935",
   "metadata": {},
   "source": [
    "## Move model from CPU to GPU."
   ]
  },
  {
   "cell_type": "code",
   "execution_count": null,
   "id": "14094bca",
   "metadata": {},
   "outputs": [],
   "source": [
    "def print_params(model):\n",
    "    for p in model.parameters():\n",
    "        print(p)"
   ]
  },
  {
   "cell_type": "code",
   "execution_count": null,
   "id": "a911875a",
   "metadata": {},
   "outputs": [],
   "source": [
    "linear = nn.Linear(2, 2)\n",
    "print_params(linear)"
   ]
  },
  {
   "cell_type": "code",
   "execution_count": null,
   "id": "a9559340",
   "metadata": {},
   "outputs": [],
   "source": [
    "linear = linear.cuda()\n",
    "print_params(linear)"
   ]
  },
  {
   "cell_type": "code",
   "execution_count": null,
   "id": "82a7cd6c",
   "metadata": {},
   "outputs": [],
   "source": [
    "linear = linear.cpu()\n",
    "print_params(linear)"
   ]
  },
  {
   "cell_type": "code",
   "execution_count": null,
   "id": "b455e07d",
   "metadata": {},
   "outputs": [],
   "source": [
    "d = torch.device('cuda:0')\n",
    "linear = linear.to(d)\n",
    "print_params(linear)"
   ]
  },
  {
   "cell_type": "code",
   "execution_count": null,
   "id": "af9518b0",
   "metadata": {},
   "outputs": [],
   "source": [
    "linear.device"
   ]
  },
  {
   "cell_type": "markdown",
   "id": "551f4220",
   "metadata": {},
   "source": [
    "## Tricks"
   ]
  },
  {
   "cell_type": "code",
   "execution_count": null,
   "id": "94a210c7",
   "metadata": {},
   "outputs": [],
   "source": [
    "x = torch.cuda.FloatTensor(2, 2)"
   ]
  },
  {
   "cell_type": "code",
   "execution_count": null,
   "id": "7ac516f1",
   "metadata": {},
   "outputs": [],
   "source": [
    "x.new(2, 2)"
   ]
  },
  {
   "cell_type": "code",
   "execution_count": null,
   "id": "6566ec30",
   "metadata": {},
   "outputs": [],
   "source": [
    "torch.zeros_like(x)"
   ]
  },
  {
   "cell_type": "code",
   "execution_count": null,
   "id": "d5662794",
   "metadata": {},
   "outputs": [],
   "source": [
    "torch.ones_like(x)"
   ]
  },
  {
   "cell_type": "code",
   "execution_count": null,
   "id": "b220dd58",
   "metadata": {},
   "outputs": [],
   "source": [
    "list(inear.parameters())[0].new(2, 2) "
   ]
  }
 ],
 "metadata": {
  "kernelspec": {
   "display_name": "Python 3",
   "language": "python",
   "name": "python3"
  },
  "language_info": {
   "codemirror_mode": {
    "name": "ipython",
    "version": 3
   },
   "file_extension": ".py",
   "mimetype": "text/x-python",
   "name": "python",
   "nbconvert_exporter": "python",
   "pygments_lexer": "ipython3",
   "version": "3.9.12"
  }
 },
 "nbformat": 4,
 "nbformat_minor": 5
}
