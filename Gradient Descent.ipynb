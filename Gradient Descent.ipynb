{
 "cells": [
  {
   "cell_type": "markdown",
   "id": "01ef737c",
   "metadata": {},
   "source": [
    "## Gradient Descent"
   ]
  },
  {
   "cell_type": "code",
   "execution_count": 1,
   "id": "444e1efc",
   "metadata": {},
   "outputs": [],
   "source": [
    "import torch\n",
    "import torch.nn.functional as F\n",
    "# 이 실습에서는 low level로 해보기. "
   ]
  },
  {
   "cell_type": "code",
   "execution_count": 2,
   "id": "3d0dd724",
   "metadata": {},
   "outputs": [],
   "source": [
    "target = torch.FloatTensor([[.1, .2, .3],\n",
    "                           [.4, .5, .6],\n",
    "                           [.7, .8, .9]])"
   ]
  },
  {
   "cell_type": "code",
   "execution_count": 3,
   "id": "b9c309d0",
   "metadata": {},
   "outputs": [
    {
     "data": {
      "text/plain": [
       "tensor([[0.9960, 0.1936, 0.8734],\n",
       "        [0.9084, 0.6689, 0.4719],\n",
       "        [0.3829, 0.4554, 0.2604]], requires_grad=True)"
      ]
     },
     "execution_count": 3,
     "metadata": {},
     "output_type": "execute_result"
    }
   ],
   "source": [
    "x = torch.rand_like(target)\n",
    "# This means the final scalar will be differentiate by x.\n",
    "x.requires_grad = True\n",
    "# You can get gradient of x, after differentiation.\n",
    "\n",
    "x"
   ]
  },
  {
   "cell_type": "code",
   "execution_count": 4,
   "id": "e58027fd",
   "metadata": {},
   "outputs": [
    {
     "data": {
      "text/plain": [
       "tensor(0.2293, grad_fn=<MseLossBackward0>)"
      ]
     },
     "execution_count": 4,
     "metadata": {},
     "output_type": "execute_result"
    }
   ],
   "source": [
    "loss = F.mse_loss(x, target)\n",
    "\n",
    "loss"
   ]
  },
  {
   "cell_type": "code",
   "execution_count": 5,
   "id": "30abc211",
   "metadata": {},
   "outputs": [
    {
     "name": "stdout",
     "output_type": "stream",
     "text": [
      "1-th Loss: 1.3869e-01\n",
      "tensor([[0.7969, 0.1950, 0.7460],\n",
      "        [0.7954, 0.6314, 0.5003],\n",
      "        [0.4534, 0.5320, 0.4025]], requires_grad=True)\n",
      "2-th Loss: 8.3900e-02\n",
      "tensor([[0.6420, 0.1961, 0.6469],\n",
      "        [0.7075, 0.6022, 0.5225],\n",
      "        [0.5082, 0.5915, 0.5131]], requires_grad=True)\n",
      "3-th Loss: 5.0754e-02\n",
      "tensor([[0.5216, 0.1970, 0.5698],\n",
      "        [0.6392, 0.5795, 0.5397],\n",
      "        [0.5508, 0.6379, 0.5991]], requires_grad=True)\n",
      "4-th Loss: 3.0703e-02\n",
      "tensor([[0.4279, 0.1977, 0.5098],\n",
      "        [0.5860, 0.5618, 0.5531],\n",
      "        [0.5840, 0.6739, 0.6659]], requires_grad=True)\n",
      "5-th Loss: 1.8574e-02\n",
      "tensor([[0.3550, 0.1982, 0.4632],\n",
      "        [0.5447, 0.5481, 0.5635],\n",
      "        [0.6097, 0.7019, 0.7179]], requires_grad=True)\n",
      "6-th Loss: 1.1236e-02\n",
      "tensor([[0.2983, 0.1986, 0.4269],\n",
      "        [0.5125, 0.5374, 0.5716],\n",
      "        [0.6298, 0.7237, 0.7584]], requires_grad=True)\n",
      "7-th Loss: 6.7970e-03\n",
      "tensor([[0.2543, 0.1989, 0.3987],\n",
      "        [0.4875, 0.5291, 0.5779],\n",
      "        [0.6454, 0.7407, 0.7899]], requires_grad=True)\n",
      "8-th Loss: 4.1118e-03\n",
      "tensor([[0.2200, 0.1991, 0.3768],\n",
      "        [0.4681, 0.5226, 0.5828],\n",
      "        [0.6575, 0.7538, 0.8143]], requires_grad=True)\n",
      "9-th Loss: 2.4874e-03\n",
      "tensor([[0.1933, 0.1993, 0.3597],\n",
      "        [0.4530, 0.5176, 0.5867],\n",
      "        [0.6670, 0.7641, 0.8334]], requires_grad=True)\n",
      "10-th Loss: 1.5047e-03\n",
      "tensor([[0.1726, 0.1995, 0.3465],\n",
      "        [0.4412, 0.5137, 0.5896],\n",
      "        [0.6743, 0.7721, 0.8482]], requires_grad=True)\n",
      "11-th Loss: 9.1025e-04\n",
      "tensor([[0.1565, 0.1996, 0.3361],\n",
      "        [0.4320, 0.5106, 0.5919],\n",
      "        [0.6800, 0.7783, 0.8597]], requires_grad=True)\n",
      "12-th Loss: 5.5065e-04\n",
      "tensor([[0.1439, 0.1997, 0.3281],\n",
      "        [0.4249, 0.5083, 0.5937],\n",
      "        [0.6845, 0.7831, 0.8687]], requires_grad=True)\n",
      "13-th Loss: 3.3311e-04\n",
      "tensor([[0.1342, 0.1998, 0.3219],\n",
      "        [0.4194, 0.5064, 0.5951],\n",
      "        [0.6879, 0.7869, 0.8756]], requires_grad=True)\n",
      "14-th Loss: 2.0151e-04\n",
      "tensor([[0.1266, 0.1998, 0.3170],\n",
      "        [0.4151, 0.5050, 0.5962],\n",
      "        [0.6906, 0.7898, 0.8810]], requires_grad=True)\n",
      "15-th Loss: 1.2190e-04\n",
      "tensor([[0.1207, 0.1999, 0.3132],\n",
      "        [0.4117, 0.5039, 0.5970],\n",
      "        [0.6927, 0.7921, 0.8853]], requires_grad=True)\n",
      "16-th Loss: 7.3742e-05\n",
      "tensor([[0.1161, 0.1999, 0.3103],\n",
      "        [0.4091, 0.5030, 0.5977],\n",
      "        [0.6943, 0.7938, 0.8885]], requires_grad=True)\n",
      "17-th Loss: 4.4610e-05\n",
      "tensor([[0.1125, 0.1999, 0.3080],\n",
      "        [0.4071, 0.5024, 0.5982],\n",
      "        [0.6956, 0.7952, 0.8911]], requires_grad=True)\n",
      "18-th Loss: 2.6986e-05\n",
      "tensor([[0.1097, 0.1999, 0.3062],\n",
      "        [0.4055, 0.5018, 0.5986],\n",
      "        [0.6966, 0.7963, 0.8931]], requires_grad=True)\n",
      "19-th Loss: 1.6325e-05\n",
      "tensor([[0.1076, 0.1999, 0.3048],\n",
      "        [0.4043, 0.5014, 0.5989],\n",
      "        [0.6973, 0.7971, 0.8946]], requires_grad=True)\n",
      "20-th Loss: 9.8755e-06\n",
      "tensor([[0.1059, 0.2000, 0.3038],\n",
      "        [0.4033, 0.5011, 0.5992],\n",
      "        [0.6979, 0.7977, 0.8958]], requires_grad=True)\n"
     ]
    }
   ],
   "source": [
    "threshold = 1e-5\n",
    "learning_rate = 1.\n",
    "iter_cnt = 0\n",
    "\n",
    "while loss > threshold:\n",
    "    iter_cnt += 1\n",
    "    loss.backward() # Calculate gradients.\n",
    "    \n",
    "    x = x - learning_rate * x.grad\n",
    "    \n",
    "    # You don't need to aware this now.\n",
    "    x.detach_() # 그래프를 끊어줌. . .\n",
    "    x.requires_grad_(True)\n",
    "    \n",
    "    loss = F.mse_loss(x, target)\n",
    "    \n",
    "    print('%d-th Loss: %.4e' % (iter_cnt, loss))\n",
    "    print(x)"
   ]
  },
  {
   "cell_type": "code",
   "execution_count": null,
   "id": "37aa6ecc",
   "metadata": {},
   "outputs": [],
   "source": []
  }
 ],
 "metadata": {
  "kernelspec": {
   "display_name": "Python 3",
   "language": "python",
   "name": "python3"
  },
  "language_info": {
   "codemirror_mode": {
    "name": "ipython",
    "version": 3
   },
   "file_extension": ".py",
   "mimetype": "text/x-python",
   "name": "python",
   "nbconvert_exporter": "python",
   "pygments_lexer": "ipython3",
   "version": "3.9.12"
  }
 },
 "nbformat": 4,
 "nbformat_minor": 5
}
