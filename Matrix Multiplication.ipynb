{
 "cells": [
  {
   "cell_type": "markdown",
   "id": "2b87de47",
   "metadata": {},
   "source": [
    "## Matrix Multiplication"
   ]
  },
  {
   "cell_type": "code",
   "execution_count": 1,
   "id": "eae3ce96",
   "metadata": {},
   "outputs": [],
   "source": [
    "import torch"
   ]
  },
  {
   "cell_type": "code",
   "execution_count": 2,
   "id": "c9a6a18c",
   "metadata": {},
   "outputs": [
    {
     "name": "stdout",
     "output_type": "stream",
     "text": [
      "torch.Size([3, 2]) torch.Size([2, 2])\n"
     ]
    }
   ],
   "source": [
    "x = torch.FloatTensor([[1, 2],\n",
    "                      [3, 4],\n",
    "                      [5, 6]])\n",
    "y = torch.FloatTensor([[1, 2],\n",
    "                      [1, 2]])\n",
    "print(x.size(), y.size())"
   ]
  },
  {
   "cell_type": "code",
   "execution_count": 3,
   "id": "8e6c2c27",
   "metadata": {},
   "outputs": [
    {
     "name": "stdout",
     "output_type": "stream",
     "text": [
      "torch.Size([3, 2])\n"
     ]
    }
   ],
   "source": [
    "z = torch.matmul(x, y)\n",
    "print(z.size())"
   ]
  },
  {
   "cell_type": "code",
   "execution_count": 4,
   "id": "11844786",
   "metadata": {},
   "outputs": [
    {
     "name": "stdout",
     "output_type": "stream",
     "text": [
      "torch.Size([3, 3, 2]) torch.Size([3, 2, 3])\n"
     ]
    }
   ],
   "source": [
    "x = torch.FloatTensor([[[1, 2],\n",
    "                       [3, 4],\n",
    "                       [5, 6]],\n",
    "                      [[7, 8],\n",
    "                      [9, 10],\n",
    "                      [11, 12]],\n",
    "                      [[13, 14],\n",
    "                      [15, 16],\n",
    "                      [17, 18]]])\n",
    "y = torch.FloatTensor([[[1, 2, 2],\n",
    "                       [1, 2, 2]],\n",
    "                      [[1, 3, 3],\n",
    "                      [1, 3, 3]],\n",
    "                      [[1, 4, 4],\n",
    "                      [1, 4, 4]]])\n",
    "print(x.size(), y.size())"
   ]
  },
  {
   "cell_type": "code",
   "execution_count": 5,
   "id": "5fb2d4a9",
   "metadata": {},
   "outputs": [
    {
     "name": "stdout",
     "output_type": "stream",
     "text": [
      "torch.Size([3, 3, 3])\n"
     ]
    }
   ],
   "source": [
    "z = torch.bmm(x, y)\n",
    "print(z.size())"
   ]
  },
  {
   "cell_type": "code",
   "execution_count": null,
   "id": "f75a5833",
   "metadata": {},
   "outputs": [],
   "source": []
  }
 ],
 "metadata": {
  "kernelspec": {
   "display_name": "Python 3",
   "language": "python",
   "name": "python3"
  },
  "language_info": {
   "codemirror_mode": {
    "name": "ipython",
    "version": 3
   },
   "file_extension": ".py",
   "mimetype": "text/x-python",
   "name": "python",
   "nbconvert_exporter": "python",
   "pygments_lexer": "ipython3",
   "version": "3.9.12"
  }
 },
 "nbformat": 4,
 "nbformat_minor": 5
}
