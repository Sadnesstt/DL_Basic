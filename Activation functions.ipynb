{
 "cells": [
  {
   "cell_type": "markdown",
   "id": "3dc424b4",
   "metadata": {},
   "source": [
    "## Activation Functions"
   ]
  },
  {
   "cell_type": "code",
   "execution_count": 1,
   "id": "e40978e5",
   "metadata": {},
   "outputs": [],
   "source": [
    "import torch\n",
    "import torch.nn as nn\n",
    "from matplotlib import pyplot as plt"
   ]
  },
  {
   "cell_type": "code",
   "execution_count": 2,
   "id": "bd0990b4",
   "metadata": {},
   "outputs": [
    {
     "data": {
      "text/plain": [
       "tensor([-2.6994e+01, -2.2850e+01, -1.9047e+01, -1.8956e+01, -1.5823e+01,\n",
       "        -1.5424e+01, -1.4734e+01, -1.3629e+01, -1.3602e+01, -1.3499e+01,\n",
       "        -1.3380e+01, -1.2150e+01, -1.1751e+01, -1.1614e+01, -1.0843e+01,\n",
       "        -1.0504e+01, -1.0367e+01, -1.0171e+01, -1.0165e+01, -9.4594e+00,\n",
       "        -9.2668e+00, -9.0473e+00, -9.0097e+00, -8.9844e+00, -7.8109e+00,\n",
       "        -7.3675e+00, -7.1013e+00, -7.0408e+00, -6.8856e+00, -6.5580e+00,\n",
       "        -6.4121e+00, -6.0481e+00, -5.3175e+00, -5.2156e+00, -4.6373e+00,\n",
       "        -4.4171e+00, -4.3528e+00, -4.1099e+00, -3.7839e+00, -3.7145e+00,\n",
       "        -3.3652e+00, -3.0852e+00, -2.1408e+00, -2.0781e+00, -2.0295e+00,\n",
       "        -1.8416e+00, -1.7765e+00, -1.2215e+00, -1.1598e+00, -6.7845e-01,\n",
       "        -6.4845e-01, -4.1920e-01,  5.4622e-03,  5.3370e-01,  8.9593e-01,\n",
       "         1.0594e+00,  1.1272e+00,  1.2464e+00,  1.5232e+00,  1.7970e+00,\n",
       "         2.2203e+00,  2.5569e+00,  2.7087e+00,  3.0787e+00,  3.2648e+00,\n",
       "         3.6800e+00,  3.7775e+00,  4.0333e+00,  4.0533e+00,  5.2639e+00,\n",
       "         5.7324e+00,  6.5044e+00,  7.2001e+00,  7.6560e+00,  8.6102e+00,\n",
       "         8.6926e+00,  8.9212e+00,  9.3348e+00,  9.4323e+00,  9.6088e+00,\n",
       "         9.6723e+00,  1.0051e+01,  1.0606e+01,  1.0767e+01,  1.1101e+01,\n",
       "         1.1424e+01,  1.1462e+01,  1.1582e+01,  1.1710e+01,  1.1726e+01,\n",
       "         1.2189e+01,  1.2289e+01,  1.2876e+01,  1.4754e+01,  1.5276e+01,\n",
       "         1.9772e+01,  2.0018e+01,  2.1845e+01,  2.2463e+01,  2.7544e+01])"
      ]
     },
     "execution_count": 2,
     "metadata": {},
     "output_type": "execute_result"
    }
   ],
   "source": [
    "x = torch.sort(torch.randn(100) * 10)[0]\n",
    "# torch.randn를 하면 -3에서 3의 값이 나오고 10을 곱해서 값을 퍼트렸음.\n",
    "\n",
    "x"
   ]
  },
  {
   "cell_type": "markdown",
   "id": "761679f5",
   "metadata": {},
   "source": [
    "## Sigmoid"
   ]
  },
  {
   "cell_type": "code",
   "execution_count": 3,
   "id": "77692870",
   "metadata": {
    "scrolled": true
   },
   "outputs": [
    {
     "name": "stdout",
     "output_type": "stream",
     "text": [
      "tensor([1.8917e-12, 1.1927e-10, 5.3443e-09, 5.8567e-09, 1.3439e-07, 2.0029e-07,\n",
      "        3.9904e-07, 1.2055e-06, 1.2383e-06, 1.3718e-06, 1.5462e-06, 5.2880e-06,\n",
      "        7.8787e-06, 9.0393e-06, 1.9542e-05, 2.7416e-05, 3.1454e-05, 3.8252e-05,\n",
      "        3.8479e-05, 7.7945e-05, 9.4501e-05, 1.1770e-04, 1.2221e-04, 1.2533e-04,\n",
      "        4.0511e-04, 6.3108e-04, 8.2333e-04, 8.7464e-04, 1.0213e-03, 1.4168e-03,\n",
      "        1.6389e-03, 2.3568e-03, 4.8809e-03, 5.4020e-03, 9.5905e-03, 1.1925e-02,\n",
      "        1.2707e-02, 1.6144e-02, 2.2229e-02, 2.3787e-02, 3.3401e-02, 4.3721e-02,\n",
      "        1.0520e-01, 1.1124e-01, 1.1614e-01, 1.3686e-01, 1.4474e-01, 2.2767e-01,\n",
      "        2.3870e-01, 3.3661e-01, 3.4334e-01, 3.9671e-01, 5.0137e-01, 6.3035e-01,\n",
      "        7.1011e-01, 7.4258e-01, 7.5533e-01, 7.7667e-01, 8.2100e-01, 8.5779e-01,\n",
      "        9.0205e-01, 9.2803e-01, 9.3754e-01, 9.5601e-01, 9.6320e-01, 9.7540e-01,\n",
      "        9.7763e-01, 9.8259e-01, 9.8293e-01, 9.9485e-01, 9.9677e-01, 9.9851e-01,\n",
      "        9.9925e-01, 9.9953e-01, 9.9982e-01, 9.9983e-01, 9.9987e-01, 9.9991e-01,\n",
      "        9.9992e-01, 9.9993e-01, 9.9994e-01, 9.9996e-01, 9.9998e-01, 9.9998e-01,\n",
      "        9.9998e-01, 9.9999e-01, 9.9999e-01, 9.9999e-01, 9.9999e-01, 9.9999e-01,\n",
      "        9.9999e-01, 1.0000e+00, 1.0000e+00, 1.0000e+00, 1.0000e+00, 1.0000e+00,\n",
      "        1.0000e+00, 1.0000e+00, 1.0000e+00, 1.0000e+00])\n"
     ]
    }
   ],
   "source": [
    "act = nn.Sigmoid()\n",
    "print(act(x))"
   ]
  },
  {
   "cell_type": "code",
   "execution_count": 4,
   "id": "31ca7957",
   "metadata": {},
   "outputs": [
    {
     "name": "stdout",
     "output_type": "stream",
     "text": [
      "tensor([1.8917e-12, 1.1927e-10, 5.3443e-09, 5.8567e-09, 1.3439e-07, 2.0029e-07,\n",
      "        3.9904e-07, 1.2055e-06, 1.2383e-06, 1.3718e-06, 1.5462e-06, 5.2880e-06,\n",
      "        7.8787e-06, 9.0393e-06, 1.9542e-05, 2.7416e-05, 3.1454e-05, 3.8252e-05,\n",
      "        3.8479e-05, 7.7945e-05, 9.4501e-05, 1.1770e-04, 1.2221e-04, 1.2533e-04,\n",
      "        4.0511e-04, 6.3108e-04, 8.2333e-04, 8.7464e-04, 1.0213e-03, 1.4168e-03,\n",
      "        1.6389e-03, 2.3568e-03, 4.8809e-03, 5.4020e-03, 9.5905e-03, 1.1925e-02,\n",
      "        1.2707e-02, 1.6144e-02, 2.2229e-02, 2.3787e-02, 3.3401e-02, 4.3721e-02,\n",
      "        1.0520e-01, 1.1124e-01, 1.1614e-01, 1.3686e-01, 1.4474e-01, 2.2767e-01,\n",
      "        2.3870e-01, 3.3661e-01, 3.4334e-01, 3.9671e-01, 5.0137e-01, 6.3035e-01,\n",
      "        7.1011e-01, 7.4258e-01, 7.5533e-01, 7.7667e-01, 8.2100e-01, 8.5779e-01,\n",
      "        9.0205e-01, 9.2803e-01, 9.3754e-01, 9.5601e-01, 9.6320e-01, 9.7540e-01,\n",
      "        9.7763e-01, 9.8259e-01, 9.8293e-01, 9.9485e-01, 9.9677e-01, 9.9851e-01,\n",
      "        9.9925e-01, 9.9953e-01, 9.9982e-01, 9.9983e-01, 9.9987e-01, 9.9991e-01,\n",
      "        9.9992e-01, 9.9993e-01, 9.9994e-01, 9.9996e-01, 9.9998e-01, 9.9998e-01,\n",
      "        9.9998e-01, 9.9999e-01, 9.9999e-01, 9.9999e-01, 9.9999e-01, 9.9999e-01,\n",
      "        9.9999e-01, 1.0000e+00, 1.0000e+00, 1.0000e+00, 1.0000e+00, 1.0000e+00,\n",
      "        1.0000e+00, 1.0000e+00, 1.0000e+00, 1.0000e+00])\n"
     ]
    }
   ],
   "source": [
    "print(torch.sigmoid(x))"
   ]
  },
  {
   "cell_type": "code",
   "execution_count": 6,
   "id": "3a2ca400",
   "metadata": {},
   "outputs": [
    {
     "data": {
      "image/png": "[encoded data removed]",
      "text/plain": [
       "<Figure size 432x288 with 1 Axes>"
      ]
     },
     "metadata": {
      "needs_background": "light"
     },
     "output_type": "display_data"
    }
   ],
   "source": [
    "plt.plot(x.numpy(), torch.sigmoid(x).numpy())\n",
    "plt.show()"
   ]
  },
  {
   "cell_type": "markdown",
   "id": "0265d628",
   "metadata": {},
   "source": [
    "## Hyperbolic Tangent (Tanh)"
   ]
  },
  {
   "cell_type": "code",
   "execution_count": 7,
   "id": "f0c2873a",
   "metadata": {},
   "outputs": [
    {
     "name": "stdout",
     "output_type": "stream",
     "text": [
      "tensor([-1.0000, -1.0000, -1.0000, -1.0000, -1.0000, -1.0000, -1.0000, -1.0000,\n",
      "        -1.0000, -1.0000, -1.0000, -1.0000, -1.0000, -1.0000, -1.0000, -1.0000,\n",
      "        -1.0000, -1.0000, -1.0000, -1.0000, -1.0000, -1.0000, -1.0000, -1.0000,\n",
      "        -1.0000, -1.0000, -1.0000, -1.0000, -1.0000, -1.0000, -1.0000, -1.0000,\n",
      "        -1.0000, -0.9999, -0.9998, -0.9997, -0.9997, -0.9995, -0.9990, -0.9988,\n",
      "        -0.9976, -0.9958, -0.9727, -0.9692, -0.9661, -0.9510, -0.9443, -0.8401,\n",
      "        -0.8210, -0.5905, -0.5706, -0.3963,  0.0055,  0.4882,  0.7143,  0.7854,\n",
      "         0.8101,  0.8473,  0.9092,  0.9465,  0.9767,  0.9880,  0.9912,  0.9958,\n",
      "         0.9971,  0.9987,  0.9990,  0.9994,  0.9994,  0.9999,  1.0000,  1.0000,\n",
      "         1.0000,  1.0000,  1.0000,  1.0000,  1.0000,  1.0000,  1.0000,  1.0000,\n",
      "         1.0000,  1.0000,  1.0000,  1.0000,  1.0000,  1.0000,  1.0000,  1.0000,\n",
      "         1.0000,  1.0000,  1.0000,  1.0000,  1.0000,  1.0000,  1.0000,  1.0000,\n",
      "         1.0000,  1.0000,  1.0000,  1.0000])\n"
     ]
    }
   ],
   "source": [
    "act = nn.Tanh()\n",
    "print(act(x))"
   ]
  },
  {
   "cell_type": "code",
   "execution_count": 8,
   "id": "19e177b5",
   "metadata": {},
   "outputs": [
    {
     "name": "stdout",
     "output_type": "stream",
     "text": [
      "tensor([-1.0000, -1.0000, -1.0000, -1.0000, -1.0000, -1.0000, -1.0000, -1.0000,\n",
      "        -1.0000, -1.0000, -1.0000, -1.0000, -1.0000, -1.0000, -1.0000, -1.0000,\n",
      "        -1.0000, -1.0000, -1.0000, -1.0000, -1.0000, -1.0000, -1.0000, -1.0000,\n",
      "        -1.0000, -1.0000, -1.0000, -1.0000, -1.0000, -1.0000, -1.0000, -1.0000,\n",
      "        -1.0000, -0.9999, -0.9998, -0.9997, -0.9997, -0.9995, -0.9990, -0.9988,\n",
      "        -0.9976, -0.9958, -0.9727, -0.9692, -0.9661, -0.9510, -0.9443, -0.8401,\n",
      "        -0.8210, -0.5905, -0.5706, -0.3963,  0.0055,  0.4882,  0.7143,  0.7854,\n",
      "         0.8101,  0.8473,  0.9092,  0.9465,  0.9767,  0.9880,  0.9912,  0.9958,\n",
      "         0.9971,  0.9987,  0.9990,  0.9994,  0.9994,  0.9999,  1.0000,  1.0000,\n",
      "         1.0000,  1.0000,  1.0000,  1.0000,  1.0000,  1.0000,  1.0000,  1.0000,\n",
      "         1.0000,  1.0000,  1.0000,  1.0000,  1.0000,  1.0000,  1.0000,  1.0000,\n",
      "         1.0000,  1.0000,  1.0000,  1.0000,  1.0000,  1.0000,  1.0000,  1.0000,\n",
      "         1.0000,  1.0000,  1.0000,  1.0000])\n"
     ]
    }
   ],
   "source": [
    "print(torch.tanh(x))"
   ]
  },
  {
   "cell_type": "code",
   "execution_count": 9,
   "id": "4da6eb66",
   "metadata": {},
   "outputs": [
    {
     "data": {
      "image/png": "[encoded data removed]",
      "text/plain": [
       "<Figure size 432x288 with 1 Axes>"
      ]
     },
     "metadata": {
      "needs_background": "light"
     },
     "output_type": "display_data"
    }
   ],
   "source": [
    "plt.plot(x.numpy(), torch.tanh(x).numpy())\n",
    "plt.show()"
   ]
  },
  {
   "cell_type": "code",
   "execution_count": null,
   "id": "bf6d113a",
   "metadata": {},
   "outputs": [],
   "source": []
  }
 ],
 "metadata": {
  "kernelspec": {
   "display_name": "Python 3",
   "language": "python",
   "name": "python3"
  },
  "language_info": {
   "codemirror_mode": {
    "name": "ipython",
    "version": 3
   },
   "file_extension": ".py",
   "mimetype": "text/x-python",
   "name": "python",
   "nbconvert_exporter": "python",
   "pygments_lexer": "ipython3",
   "version": "3.9.12"
  }
 },
 "nbformat": 4,
 "nbformat_minor": 5
}
