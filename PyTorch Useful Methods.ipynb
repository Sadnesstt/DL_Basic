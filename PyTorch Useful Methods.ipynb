{
 "cells": [
  {
   "cell_type": "markdown",
   "id": "6623e123",
   "metadata": {},
   "source": [
    "## PyTorch Useful Methods"
   ]
  },
  {
   "cell_type": "code",
   "execution_count": 1,
   "id": "ab46c460",
   "metadata": {},
   "outputs": [],
   "source": [
    "import torch"
   ]
  },
  {
   "cell_type": "markdown",
   "id": "741373e2",
   "metadata": {},
   "source": [
    "### expand : copy the given tensor and concat those at desired dimensions"
   ]
  },
  {
   "cell_type": "code",
   "execution_count": 4,
   "id": "500aee53",
   "metadata": {},
   "outputs": [
    {
     "name": "stdout",
     "output_type": "stream",
     "text": [
      "torch.Size([2, 1, 2])\n"
     ]
    }
   ],
   "source": [
    "x = torch.FloatTensor([[[1, 2]],\n",
    "                      [[3, 4]]])\n",
    "print(x.size())"
   ]
  },
  {
   "cell_type": "code",
   "execution_count": 5,
   "id": "bcef90f1",
   "metadata": {},
   "outputs": [
    {
     "name": "stdout",
     "output_type": "stream",
     "text": [
      "tensor([[[1., 2.],\n",
      "         [1., 2.],\n",
      "         [1., 2.]],\n",
      "\n",
      "        [[3., 4.],\n",
      "         [3., 4.],\n",
      "         [3., 4.]]])\n",
      "torch.Size([2, 3, 2])\n"
     ]
    }
   ],
   "source": [
    "y = x.expand(*[2, 3, 2]) # 괄호안의 size로 변환해줌.\n",
    "\n",
    "print(y)\n",
    "print(y.size())"
   ]
  },
  {
   "cell_type": "markdown",
   "id": "01aee010",
   "metadata": {},
   "source": [
    "### Implement expand with cat."
   ]
  },
  {
   "cell_type": "code",
   "execution_count": 6,
   "id": "311af06f",
   "metadata": {},
   "outputs": [
    {
     "name": "stdout",
     "output_type": "stream",
     "text": [
      "tensor([[[1., 2.],\n",
      "         [1., 2.],\n",
      "         [1., 2.]],\n",
      "\n",
      "        [[3., 4.],\n",
      "         [3., 4.],\n",
      "         [3., 4.]]])\n",
      "torch.Size([2, 3, 2])\n"
     ]
    }
   ],
   "source": [
    "y = torch.cat([x, x, x], dim = 1)\n",
    "\n",
    "print(y)\n",
    "print(y.size())"
   ]
  },
  {
   "cell_type": "markdown",
   "id": "6659df31",
   "metadata": {},
   "source": [
    "## randperm : Random Permutation"
   ]
  },
  {
   "cell_type": "code",
   "execution_count": 7,
   "id": "e52513e5",
   "metadata": {},
   "outputs": [
    {
     "name": "stdout",
     "output_type": "stream",
     "text": [
      "tensor([9, 3, 5, 6, 8, 7, 1, 0, 4, 2])\n",
      "torch.Size([10])\n"
     ]
    }
   ],
   "source": [
    "x = torch.randperm(10) # 임의의 순열에 대해서 만들어내는것. 0~9까지를 랜덤하게 섞은 것을 보여줌. shuffleing을 할 수 있음.\n",
    "\n",
    "print(x)\n",
    "print(x.size())"
   ]
  },
  {
   "cell_type": "markdown",
   "id": "322757c1",
   "metadata": {},
   "source": [
    "## argmax : Return index of maximum values"
   ]
  },
  {
   "cell_type": "code",
   "execution_count": 8,
   "id": "43ac1f1a",
   "metadata": {},
   "outputs": [
    {
     "name": "stdout",
     "output_type": "stream",
     "text": [
      "tensor([[[22, 12, 26],\n",
      "         [ 1, 19, 14],\n",
      "         [20, 17,  3]],\n",
      "\n",
      "        [[10, 25,  4],\n",
      "         [21, 16, 11],\n",
      "         [ 9, 13,  8]],\n",
      "\n",
      "        [[ 5,  0, 15],\n",
      "         [ 2,  7, 18],\n",
      "         [ 6, 24, 23]]])\n",
      "torch.Size([3, 3, 3])\n"
     ]
    }
   ],
   "source": [
    "x = torch.randperm(3**3).reshape(3, 3, -1)\n",
    "print(x)\n",
    "print(x.size())"
   ]
  },
  {
   "cell_type": "code",
   "execution_count": 9,
   "id": "6d8d23b5",
   "metadata": {},
   "outputs": [
    {
     "name": "stdout",
     "output_type": "stream",
     "text": [
      "tensor([[2, 1, 0],\n",
      "        [1, 0, 1],\n",
      "        [2, 2, 1]])\n",
      "torch.Size([3, 3])\n"
     ]
    }
   ],
   "source": [
    "y = x.argmax(dim = -1)\n",
    "\n",
    "print(y)\n",
    "print(y.size())"
   ]
  },
  {
   "cell_type": "markdown",
   "id": "3e0a3903",
   "metadata": {},
   "source": [
    "## topk : Return tuple of top-k values and indices"
   ]
  },
  {
   "cell_type": "code",
   "execution_count": 10,
   "id": "f080a4a3",
   "metadata": {},
   "outputs": [
    {
     "name": "stdout",
     "output_type": "stream",
     "text": [
      "torch.Size([3, 3, 1])\n",
      "torch.Size([3, 3, 1])\n"
     ]
    }
   ],
   "source": [
    "values, indices = torch.topk(x, k = 1, dim = - 1)\n",
    "\n",
    "print(values.size())\n",
    "print(indices.size())"
   ]
  },
  {
   "cell_type": "markdown",
   "id": "cfd0eb40",
   "metadata": {},
   "source": [
    "Note that topk didn't reduce the dimension, even in k = 1 cases."
   ]
  },
  {
   "cell_type": "code",
   "execution_count": 11,
   "id": "0bed552a",
   "metadata": {},
   "outputs": [
    {
     "name": "stdout",
     "output_type": "stream",
     "text": [
      "tensor([[26, 19, 20],\n",
      "        [25, 21, 13],\n",
      "        [15, 18, 24]])\n",
      "tensor([[2, 1, 0],\n",
      "        [1, 0, 1],\n",
      "        [2, 2, 1]])\n"
     ]
    }
   ],
   "source": [
    "print(values.squeeze(-1))\n",
    "print(indices.squeeze(-1))"
   ]
  },
  {
   "cell_type": "code",
   "execution_count": 12,
   "id": "ecdf226e",
   "metadata": {},
   "outputs": [
    {
     "name": "stdout",
     "output_type": "stream",
     "text": [
      "tensor([[True, True, True],\n",
      "        [True, True, True],\n",
      "        [True, True, True]])\n"
     ]
    }
   ],
   "source": [
    "print(x.argmax(dim = -1) == indices.squeeze(-1))"
   ]
  },
  {
   "cell_type": "markdown",
   "id": "c8180d36",
   "metadata": {},
   "source": [
    "argmax와 topk를 둘다 써도 되는데 topk의 경우 해당차원이 살아있다는점을 잊지 말아야함."
   ]
  },
  {
   "cell_type": "code",
   "execution_count": 15,
   "id": "dddc1021",
   "metadata": {
    "scrolled": true
   },
   "outputs": [
    {
     "name": "stdout",
     "output_type": "stream",
     "text": [
      "torch.Size([3, 3, 2])\n",
      "tensor([[True, True, True],\n",
      "        [True, True, True],\n",
      "        [True, True, True]])\n"
     ]
    }
   ],
   "source": [
    "_, indices = torch.topk(x, k = 2, dim = -1) # 3, 3, k가 나오게됨.\n",
    "print(indices.size())\n",
    "print(x.argmax(dim = -1) == indices[:, :, 0])"
   ]
  },
  {
   "cell_type": "code",
   "execution_count": 16,
   "id": "4fb8dfc5",
   "metadata": {},
   "outputs": [
    {
     "name": "stdout",
     "output_type": "stream",
     "text": [
      "tensor([[[2, 0],\n",
      "         [1, 2],\n",
      "         [0, 1]],\n",
      "\n",
      "        [[1, 0],\n",
      "         [0, 1],\n",
      "         [1, 0]],\n",
      "\n",
      "        [[2, 0],\n",
      "         [2, 1],\n",
      "         [1, 2]]])\n"
     ]
    }
   ],
   "source": [
    "print(indices)"
   ]
  },
  {
   "cell_type": "code",
   "execution_count": 17,
   "id": "5afba011",
   "metadata": {},
   "outputs": [
    {
     "data": {
      "text/plain": [
       "tensor([[2, 1, 0],\n",
       "        [1, 0, 1],\n",
       "        [2, 2, 1]])"
      ]
     },
     "execution_count": 17,
     "metadata": {},
     "output_type": "execute_result"
    }
   ],
   "source": [
    "indices[:, :, 0]"
   ]
  },
  {
   "cell_type": "markdown",
   "id": "9fd9750f",
   "metadata": {},
   "source": [
    "## Sort by using topk"
   ]
  },
  {
   "cell_type": "code",
   "execution_count": 14,
   "id": "0922ded9",
   "metadata": {},
   "outputs": [
    {
     "name": "stdout",
     "output_type": "stream",
     "text": [
      "tensor([[[26, 22, 12],\n",
      "         [19, 14,  1],\n",
      "         [20, 17,  3]],\n",
      "\n",
      "        [[25, 10,  4],\n",
      "         [21, 16, 11],\n",
      "         [13,  9,  8]],\n",
      "\n",
      "        [[15,  5,  0],\n",
      "         [18,  7,  2],\n",
      "         [24, 23,  6]]])\n"
     ]
    }
   ],
   "source": [
    "target_dim = -1\n",
    "values, indices = torch.topk(x,\n",
    "                            k = x.size(target_dim), # sorting이 일어남.\n",
    "                            largest = True)\n",
    "# sort를 구현한것.\n",
    "print(values)"
   ]
  },
  {
   "cell_type": "markdown",
   "id": "a06b37a5",
   "metadata": {},
   "source": [
    "## Topk by using sort"
   ]
  },
  {
   "cell_type": "code",
   "execution_count": 18,
   "id": "fc320c77",
   "metadata": {},
   "outputs": [
    {
     "name": "stdout",
     "output_type": "stream",
     "text": [
      "tensor([[26, 19, 20],\n",
      "        [25, 21, 13],\n",
      "        [15, 18, 24]])\n",
      "tensor([[2, 1, 0],\n",
      "        [1, 0, 1],\n",
      "        [2, 2, 1]])\n"
     ]
    }
   ],
   "source": [
    "k = 1\n",
    "values, indices = torch.sort(x, dim = -1, descending = True)\n",
    "values, indices = values[:, :, :k], indices[:, :, :k]\n",
    "\n",
    "print(values.squeeze(-1))\n",
    "print(indices.squeeze(-1))"
   ]
  },
  {
   "cell_type": "markdown",
   "id": "ccf5a1d4",
   "metadata": {},
   "source": [
    "## masked_fill : fill the value if element of mask is True"
   ]
  },
  {
   "cell_type": "code",
   "execution_count": 19,
   "id": "d2f7b36c",
   "metadata": {},
   "outputs": [
    {
     "name": "stdout",
     "output_type": "stream",
     "text": [
      "tensor([[0., 1., 2.],\n",
      "        [3., 4., 5.],\n",
      "        [6., 7., 8.]])\n",
      "torch.Size([3, 3])\n"
     ]
    }
   ],
   "source": [
    "x = torch.FloatTensor([i for i in range(3**2)]).reshape(3, -1)\n",
    "\n",
    "print(x)\n",
    "print(x.size())"
   ]
  },
  {
   "cell_type": "code",
   "execution_count": 20,
   "id": "4744229b",
   "metadata": {},
   "outputs": [
    {
     "name": "stdout",
     "output_type": "stream",
     "text": [
      "tensor([[False, False, False],\n",
      "        [False, False,  True],\n",
      "        [ True,  True,  True]])\n"
     ]
    }
   ],
   "source": [
    "mask = x > 4\n",
    "print(mask)"
   ]
  },
  {
   "cell_type": "code",
   "execution_count": 21,
   "id": "72d7e5ba",
   "metadata": {},
   "outputs": [
    {
     "name": "stdout",
     "output_type": "stream",
     "text": [
      "tensor([[ 0.,  1.,  2.],\n",
      "        [ 3.,  4., -1.],\n",
      "        [-1., -1., -1.]])\n"
     ]
    }
   ],
   "source": [
    "y = x.masked_fill(mask, value = -1) # mask가 true도 -1로 채워 !! \n",
    "print(y)"
   ]
  },
  {
   "cell_type": "markdown",
   "id": "a26f99fd",
   "metadata": {},
   "source": [
    "## Ones and Zeros"
   ]
  },
  {
   "cell_type": "code",
   "execution_count": 22,
   "id": "41c9c2be",
   "metadata": {},
   "outputs": [
    {
     "name": "stdout",
     "output_type": "stream",
     "text": [
      "tensor([[1., 1., 1.],\n",
      "        [1., 1., 1.]])\n",
      "tensor([[0., 0., 0.],\n",
      "        [0., 0., 0.]])\n"
     ]
    }
   ],
   "source": [
    "print(torch.ones(2, 3))\n",
    "print(torch.zeros(2, 3))"
   ]
  },
  {
   "cell_type": "code",
   "execution_count": 23,
   "id": "d7685d7b",
   "metadata": {},
   "outputs": [
    {
     "name": "stdout",
     "output_type": "stream",
     "text": [
      "torch.Size([2, 3])\n"
     ]
    }
   ],
   "source": [
    "x = torch.FloatTensor([[1, 2, 3],\n",
    "                      [4, 5, 6]])\n",
    "print(x.size())"
   ]
  },
  {
   "cell_type": "code",
   "execution_count": 25,
   "id": "57306ee0",
   "metadata": {},
   "outputs": [
    {
     "name": "stdout",
     "output_type": "stream",
     "text": [
      "tensor([[1., 1., 1.],\n",
      "        [1., 1., 1.]])\n",
      "tensor([[0., 0., 0.],\n",
      "        [0., 0., 0.]])\n"
     ]
    }
   ],
   "source": [
    "print(torch.ones_like(x)) # type도 같고 device도 같고 size도 같음. device가 다른것끼리 연산하면 에러남.\n",
    "print(torch.zeros_like(x))"
   ]
  }
 ],
 "metadata": {
  "kernelspec": {
   "display_name": "Python 3",
   "language": "python",
   "name": "python3"
  },
  "language_info": {
   "codemirror_mode": {
    "name": "ipython",
    "version": 3
   },
   "file_extension": ".py",
   "mimetype": "text/x-python",
   "name": "python",
   "nbconvert_exporter": "python",
   "pygments_lexer": "ipython3",
   "version": "3.9.12"
  }
 },
 "nbformat": 4,
 "nbformat_minor": 5
}
