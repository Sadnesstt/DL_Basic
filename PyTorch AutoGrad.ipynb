{
 "cells": [
  {
   "cell_type": "markdown",
   "id": "91b9caf4",
   "metadata": {},
   "source": [
    "## PyTorch AutoGrad"
   ]
  },
  {
   "cell_type": "code",
   "execution_count": 1,
   "id": "29268ddd",
   "metadata": {},
   "outputs": [],
   "source": [
    "import torch"
   ]
  },
  {
   "cell_type": "code",
   "execution_count": 2,
   "id": "0fdc5b81",
   "metadata": {},
   "outputs": [],
   "source": [
    "x = torch.FloatTensor([[1, 2],\n",
    "                      [3, 4]]).requires_grad_(True)\n",
    "# requires_grad_: gradient가 필요한지 묻는 argument"
   ]
  },
  {
   "cell_type": "code",
   "execution_count": 3,
   "id": "d42baa35",
   "metadata": {},
   "outputs": [
    {
     "name": "stdout",
     "output_type": "stream",
     "text": [
      "tensor([[3., 4.],\n",
      "        [5., 6.]], grad_fn=<AddBackward0>)\n",
      "tensor([[-1.,  0.],\n",
      "        [ 1.,  2.]], grad_fn=<SubBackward0>)\n",
      "tensor([[-3.,  0.],\n",
      "        [ 5., 12.]], grad_fn=<MulBackward0>)\n",
      "tensor(14., grad_fn=<SumBackward0>)\n"
     ]
    }
   ],
   "source": [
    "x1 = x + 2\n",
    "x2 = x - 2\n",
    "x3 = x1 * x2\n",
    "y = x3.sum()\n",
    "\n",
    "print(x1)\n",
    "print(x2)\n",
    "print(x3)\n",
    "print(y)"
   ]
  },
  {
   "cell_type": "code",
   "execution_count": 4,
   "id": "f84a8bf8",
   "metadata": {},
   "outputs": [],
   "source": [
    "y.backward()\n",
    "# y는 scalar여야함.\n",
    "# scalar가 아닌 경우 backward를 호출하면 에러가남."
   ]
  },
  {
   "cell_type": "markdown",
   "id": "e4059830",
   "metadata": {},
   "source": [
    "$$ x =\n",
    "\\begin{bmatrix}\n",
    "x_{(1, 1)} & x_{(1, 2)} \\\\\n",
    "x_{(2, 1)} & x_{(2, 2)}\n",
    "\\end{bmatrix}$$\n",
    "\n",
    "$$ x_{1} = x + 2 $$\n",
    "$$ x_{2} = x - 2 $$\n",
    "\n",
    "$$ x_{3} = x_{1} \\times x_{2} $$\n",
    "                $$ = (x+2)(x-2) $$\n",
    "                $$ = x^{2} - 4 $$\n",
    "$$ y = sum(x_{3}) $$\n",
    "     $$ = x_{3,(1, 1)} + x_{3,(1, 2)} + x_{3, (2, 1) } + x_{3, (2, 2) } $$\n",
    "     \n",
    "$$ x.grad =\n",
    "\\begin{bmatrix}\n",
    "\\frac{\\partial y} {\\partial x_{(1,1)}} & \\frac{\\partial y} {\\partial x_{(1,2)}} \\\\\n",
    "\\frac{\\partial y} {\\partial x_{(2,1)}} & \\frac{\\partial y} {\\partial x_{(2,2)}}\n",
    "\\end{bmatrix}$$\n",
    "\n",
    "$$ \\frac{\\partial y} {\\partial x} = 2x$$"
   ]
  },
  {
   "cell_type": "code",
   "execution_count": 5,
   "id": "69208fbc",
   "metadata": {},
   "outputs": [
    {
     "name": "stdout",
     "output_type": "stream",
     "text": [
      "tensor([[2., 4.],\n",
      "        [6., 8.]])\n"
     ]
    }
   ],
   "source": [
    "print(x.grad)"
   ]
  },
  {
   "cell_type": "code",
   "execution_count": 7,
   "id": "8adeaa45",
   "metadata": {},
   "outputs": [
    {
     "name": "stdout",
     "output_type": "stream",
     "text": [
      "tensor([[1., 2.],\n",
      "        [3., 4.]], requires_grad=True)\n"
     ]
    }
   ],
   "source": [
    "print(x)"
   ]
  },
  {
   "cell_type": "code",
   "execution_count": null,
   "id": "7a833dc9",
   "metadata": {},
   "outputs": [],
   "source": []
  }
 ],
 "metadata": {
  "kernelspec": {
   "display_name": "Python 3",
   "language": "python",
   "name": "python3"
  },
  "language_info": {
   "codemirror_mode": {
    "name": "ipython",
    "version": 3
   },
   "file_extension": ".py",
   "mimetype": "text/x-python",
   "name": "python",
   "nbconvert_exporter": "python",
   "pygments_lexer": "ipython3",
   "version": "3.9.12"
  }
 },
 "nbformat": 4,
 "nbformat_minor": 5
}
