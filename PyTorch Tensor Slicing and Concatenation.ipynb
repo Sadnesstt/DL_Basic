{
 "cells": [
  {
   "cell_type": "markdown",
   "id": "09f6727a",
   "metadata": {},
   "source": [
    "## PyTorch Tensor Slicing and Concatenation"
   ]
  },
  {
   "cell_type": "code",
   "execution_count": 1,
   "id": "dfaf1f28",
   "metadata": {},
   "outputs": [],
   "source": [
    "import torch"
   ]
  },
  {
   "cell_type": "markdown",
   "id": "3bbb0d03",
   "metadata": {},
   "source": [
    "## Slicing and Concatenation"
   ]
  },
  {
   "cell_type": "markdown",
   "id": "210663e5",
   "metadata": {},
   "source": [
    "### Indexing and Slicing"
   ]
  },
  {
   "cell_type": "markdown",
   "id": "2a89e53c",
   "metadata": {},
   "source": [
    "Prepare target index."
   ]
  },
  {
   "cell_type": "code",
   "execution_count": 2,
   "id": "a2330b53",
   "metadata": {},
   "outputs": [
    {
     "name": "stdout",
     "output_type": "stream",
     "text": [
      "torch.Size([3, 2, 2])\n"
     ]
    }
   ],
   "source": [
    "x = torch.FloatTensor([[[1, 2],\n",
    "                       [3, 4]],\n",
    "                      [[5, 6],\n",
    "                      [7, 8]],\n",
    "                      [[9, 10],\n",
    "                      [11, 12]]])\n",
    "print(x.size())"
   ]
  },
  {
   "cell_type": "markdown",
   "id": "2361fc88",
   "metadata": {},
   "source": [
    "Access to certain dimension"
   ]
  },
  {
   "cell_type": "code",
   "execution_count": 3,
   "id": "412be80a",
   "metadata": {},
   "outputs": [
    {
     "name": "stdout",
     "output_type": "stream",
     "text": [
      "tensor([[1., 2.],\n",
      "        [3., 4.]])\n",
      "tensor([[1., 2.],\n",
      "        [3., 4.]])\n",
      "tensor([[1., 2.],\n",
      "        [3., 4.]])\n"
     ]
    }
   ],
   "source": [
    "print(x[0])\n",
    "print(x[0, :])\n",
    "print(x[0, :, :])"
   ]
  },
  {
   "cell_type": "code",
   "execution_count": 4,
   "id": "d2b470e3",
   "metadata": {},
   "outputs": [
    {
     "name": "stdout",
     "output_type": "stream",
     "text": [
      "tensor([[ 9., 10.],\n",
      "        [11., 12.]])\n",
      "tensor([[ 9., 10.],\n",
      "        [11., 12.]])\n",
      "tensor([[ 9., 10.],\n",
      "        [11., 12.]])\n"
     ]
    }
   ],
   "source": [
    "print(x[-1])\n",
    "print(x[-1, :])\n",
    "print(x[-1, :, :])"
   ]
  },
  {
   "cell_type": "code",
   "execution_count": 6,
   "id": "5ec1a512",
   "metadata": {},
   "outputs": [
    {
     "name": "stdout",
     "output_type": "stream",
     "text": [
      "tensor([[ 1.,  2.],\n",
      "        [ 5.,  6.],\n",
      "        [ 9., 10.]])\n"
     ]
    }
   ],
   "source": [
    "print(x[:, 0, :])"
   ]
  },
  {
   "cell_type": "markdown",
   "id": "5557804b",
   "metadata": {},
   "source": [
    "Access by range. Note that the number of dimensions would not be changed."
   ]
  },
  {
   "cell_type": "code",
   "execution_count": 7,
   "id": "6030d8d7",
   "metadata": {},
   "outputs": [
    {
     "name": "stdout",
     "output_type": "stream",
     "text": [
      "torch.Size([2, 2, 2])\n",
      "torch.Size([3, 1, 2])\n",
      "torch.Size([3, 1, 2])\n"
     ]
    }
   ],
   "source": [
    "print(x[1:3, : , :].size())\n",
    "print(x[:, :1, :].size()) # 1이라는 dimension이 사라지지 않음.\n",
    "print(x[:, :-1, :].size()) # 마지막 전까지 다 가져오는것도 똑같음."
   ]
  },
  {
   "cell_type": "markdown",
   "id": "968ba825",
   "metadata": {},
   "source": [
    "## Split : Split tensor to desirable shapes."
   ]
  },
  {
   "cell_type": "code",
   "execution_count": 14,
   "id": "201bed1b",
   "metadata": {},
   "outputs": [],
   "source": [
    "x = torch.FloatTensor(10, 4)"
   ]
  },
  {
   "cell_type": "code",
   "execution_count": 18,
   "id": "ca2ed69d",
   "metadata": {},
   "outputs": [
    {
     "name": "stdout",
     "output_type": "stream",
     "text": [
      "torch.Size([4, 4])\n",
      "torch.Size([4, 4])\n"
     ]
    }
   ],
   "source": [
    "splits = x.split(4, dim = 0) # dimension 0번째를 4로 되게 쪼개고 나머지...\n",
    "# 10 = 4 + 4 + 2\n",
    "\n",
    "for s in splits:\n",
    "    print(s.size())"
   ]
  },
  {
   "cell_type": "code",
   "execution_count": 16,
   "id": "afc825ae",
   "metadata": {},
   "outputs": [
    {
     "data": {
      "text/plain": [
       "(tensor([[-1.2516e-12,  7.5250e-43, -9.9947e-10,  7.5250e-43],\n",
       "         [ 1.4013e-45,  7.0065e-45, -1.6758e-12,  7.5250e-43],\n",
       "         [ 0.0000e+00,  0.0000e+00,  0.0000e+00,  0.0000e+00],\n",
       "         [ 0.0000e+00,  0.0000e+00,  0.0000e+00,  0.0000e+00]]),\n",
       " tensor([[1.4013e-45, 0.0000e+00, 0.0000e+00, 0.0000e+00],\n",
       "         [0.0000e+00, 0.0000e+00, 0.0000e+00, 0.0000e+00],\n",
       "         [0.0000e+00, 0.0000e+00, 0.0000e+00, 0.0000e+00],\n",
       "         [0.0000e+00, 0.0000e+00, 0.0000e+00, 0.0000e+00]]),\n",
       " tensor([[0.0000e+00, 0.0000e+00, 0.0000e+00, 0.0000e+00],\n",
       "         [2.1019e-44, 0.0000e+00, 0.0000e+00, 0.0000e+00]]))"
      ]
     },
     "execution_count": 16,
     "metadata": {},
     "output_type": "execute_result"
    }
   ],
   "source": [
    "splits"
   ]
  },
  {
   "cell_type": "markdown",
   "id": "826abbec",
   "metadata": {},
   "source": [
    "## chunk : Split tensor to number of chunks."
   ]
  },
  {
   "cell_type": "code",
   "execution_count": 17,
   "id": "282c63ab",
   "metadata": {},
   "outputs": [],
   "source": [
    "x = torch.FloatTensor(8, 4)"
   ]
  },
  {
   "cell_type": "code",
   "execution_count": 19,
   "id": "76aa6622",
   "metadata": {},
   "outputs": [
    {
     "name": "stdout",
     "output_type": "stream",
     "text": [
      "torch.Size([3, 4])\n",
      "torch.Size([3, 4])\n",
      "torch.Size([2, 4])\n"
     ]
    }
   ],
   "source": [
    "chunks = x.chunk(3, dim = 0) # dimenison 0을 3개로 쪼개기\n",
    "\n",
    "for c in chunks:\n",
    "    print(c.size())"
   ]
  },
  {
   "cell_type": "markdown",
   "id": "fb57c3f7",
   "metadata": {},
   "source": [
    "## index_select : Select elements by using dimension index."
   ]
  },
  {
   "cell_type": "code",
   "execution_count": 20,
   "id": "d53dadf2",
   "metadata": {},
   "outputs": [
    {
     "name": "stdout",
     "output_type": "stream",
     "text": [
      "torch.Size([3, 2, 2])\n"
     ]
    }
   ],
   "source": [
    "x = torch.FloatTensor([[[1, 1],\n",
    "                       [2, 2]],\n",
    "                      [[3, 3],\n",
    "                      [4, 4]],\n",
    "                      [[5, 5],\n",
    "                      [6, 6]]])\n",
    "indice = torch.LongTensor([2, 1])\n",
    "print(x.size())"
   ]
  },
  {
   "cell_type": "code",
   "execution_count": 21,
   "id": "50db0454",
   "metadata": {},
   "outputs": [
    {
     "name": "stdout",
     "output_type": "stream",
     "text": [
      "tensor([[[5., 5.],\n",
      "         [6., 6.]],\n",
      "\n",
      "        [[3., 3.],\n",
      "         [4., 4.]]])\n",
      "torch.Size([2, 2, 2])\n"
     ]
    }
   ],
   "source": [
    "y = x.index_select(dim = 0, index = indice)\n",
    "\n",
    "print(y)\n",
    "print(y.size())"
   ]
  },
  {
   "cell_type": "markdown",
   "id": "50f35d48",
   "metadata": {},
   "source": [
    "## cat : Concatenation of multiple tensors in the list."
   ]
  },
  {
   "cell_type": "code",
   "execution_count": 22,
   "id": "df59e599",
   "metadata": {},
   "outputs": [
    {
     "name": "stdout",
     "output_type": "stream",
     "text": [
      "torch.Size([3, 3]) torch.Size([3, 3])\n"
     ]
    }
   ],
   "source": [
    "x = torch.FloatTensor([[1, 2, 3],\n",
    "                      [4, 5, 6],\n",
    "                      [7, 8, 9]])\n",
    "y = torch.FloatTensor([[10, 11, 12],\n",
    "                      [13, 14, 15],\n",
    "                      [16, 17, 18]])\n",
    "print(x.size(), y.size())"
   ]
  },
  {
   "cell_type": "code",
   "execution_count": 23,
   "id": "0da29db5",
   "metadata": {},
   "outputs": [
    {
     "name": "stdout",
     "output_type": "stream",
     "text": [
      "tensor([[ 1.,  2.,  3.],\n",
      "        [ 4.,  5.,  6.],\n",
      "        [ 7.,  8.,  9.],\n",
      "        [10., 11., 12.],\n",
      "        [13., 14., 15.],\n",
      "        [16., 17., 18.]])\n",
      "torch.Size([6, 3])\n"
     ]
    }
   ],
   "source": [
    "z = torch.cat([x, y], dim = 0)\n",
    "print(z)\n",
    "print(z.size())"
   ]
  },
  {
   "cell_type": "code",
   "execution_count": 25,
   "id": "57150596",
   "metadata": {},
   "outputs": [
    {
     "name": "stdout",
     "output_type": "stream",
     "text": [
      "tensor([[ 1.,  2.,  3., 10., 11., 12.],\n",
      "        [ 4.,  5.,  6., 13., 14., 15.],\n",
      "        [ 7.,  8.,  9., 16., 17., 18.]])\n",
      "torch.Size([3, 6])\n"
     ]
    }
   ],
   "source": [
    "z = torch.cat([x, y], dim = -1)\n",
    "print(z)\n",
    "print(z.size())"
   ]
  },
  {
   "cell_type": "markdown",
   "id": "98e48065",
   "metadata": {},
   "source": [
    "## stack : Stacking of mulitple tensors in the list."
   ]
  },
  {
   "cell_type": "code",
   "execution_count": 26,
   "id": "47683063",
   "metadata": {},
   "outputs": [
    {
     "name": "stdout",
     "output_type": "stream",
     "text": [
      "tensor([[[ 1.,  2.,  3.],\n",
      "         [ 4.,  5.,  6.],\n",
      "         [ 7.,  8.,  9.]],\n",
      "\n",
      "        [[10., 11., 12.],\n",
      "         [13., 14., 15.],\n",
      "         [16., 17., 18.]]])\n",
      "torch.Size([2, 3, 3])\n"
     ]
    }
   ],
   "source": [
    "z = torch.stack([x, y])\n",
    "print(z)\n",
    "print(z.size())"
   ]
  },
  {
   "cell_type": "markdown",
   "id": "5050c47a",
   "metadata": {},
   "source": [
    "Or you can specify the dimension. Default is 0."
   ]
  },
  {
   "cell_type": "code",
   "execution_count": 27,
   "id": "22c08eb3",
   "metadata": {},
   "outputs": [
    {
     "name": "stdout",
     "output_type": "stream",
     "text": [
      "tensor([[[ 1., 10.],\n",
      "         [ 2., 11.],\n",
      "         [ 3., 12.]],\n",
      "\n",
      "        [[ 4., 13.],\n",
      "         [ 5., 14.],\n",
      "         [ 6., 15.]],\n",
      "\n",
      "        [[ 7., 16.],\n",
      "         [ 8., 17.],\n",
      "         [ 9., 18.]]])\n",
      "torch.Size([3, 3, 2])\n"
     ]
    }
   ],
   "source": [
    "z = torch.stack([x, y], dim = -1)\n",
    "print(z)\n",
    "print(z.size())"
   ]
  },
  {
   "cell_type": "markdown",
   "id": "30b9b06d",
   "metadata": {},
   "source": [
    "### Implement 'stack' function by using 'cat'"
   ]
  },
  {
   "cell_type": "code",
   "execution_count": 28,
   "id": "743f858b",
   "metadata": {},
   "outputs": [
    {
     "name": "stdout",
     "output_type": "stream",
     "text": [
      "tensor([[[ 1.,  2.,  3.],\n",
      "         [ 4.,  5.,  6.],\n",
      "         [ 7.,  8.,  9.]],\n",
      "\n",
      "        [[10., 11., 12.],\n",
      "         [13., 14., 15.],\n",
      "         [16., 17., 18.]]])\n",
      "torch.Size([2, 3, 3])\n"
     ]
    }
   ],
   "source": [
    "z = torch.cat([x.unsqueeze(0), y.unsqueeze(0)], dim = 0)\n",
    "print(z)\n",
    "print(z.size())"
   ]
  },
  {
   "cell_type": "markdown",
   "id": "ab87a49b",
   "metadata": {},
   "source": [
    "## Useful Trick : Merge results from iterations"
   ]
  },
  {
   "cell_type": "code",
   "execution_count": 30,
   "id": "720083fa",
   "metadata": {},
   "outputs": [
    {
     "name": "stdout",
     "output_type": "stream",
     "text": [
      "torch.Size([5, 2, 2])\n"
     ]
    }
   ],
   "source": [
    "result = [] # 빈 리스트를 만듦.\n",
    "for i in range(5):\n",
    "    x = torch.FloatTensor(2, 2)\n",
    "    result += [x]\n",
    "\n",
    "# print(result.size()) 'list' object has no attribute 'size'\n",
    "result = torch.stack(result)\n",
    "print(result.size())"
   ]
  },
  {
   "cell_type": "markdown",
   "id": "548adb0f",
   "metadata": {},
   "source": [
    "데이터가 너무 클때 사용할 수 있는 trick"
   ]
  }
 ],
 "metadata": {
  "kernelspec": {
   "display_name": "Python 3",
   "language": "python",
   "name": "python3"
  },
  "language_info": {
   "codemirror_mode": {
    "name": "ipython",
    "version": 3
   },
   "file_extension": ".py",
   "mimetype": "text/x-python",
   "name": "python",
   "nbconvert_exporter": "python",
   "pygments_lexer": "ipython3",
   "version": "3.9.12"
  }
 },
 "nbformat": 4,
 "nbformat_minor": 5
}
