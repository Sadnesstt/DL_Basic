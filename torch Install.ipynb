{
 "cells": [
  {
   "cell_type": "markdown",
   "id": "4011cbec",
   "metadata": {},
   "source": [
    "## Hello PyTorch!"
   ]
  },
  {
   "cell_type": "code",
   "execution_count": 1,
   "id": "2bfb5f88",
   "metadata": {},
   "outputs": [],
   "source": [
    "import torch"
   ]
  },
  {
   "cell_type": "markdown",
   "id": "e1268596",
   "metadata": {},
   "source": [
    "Define PyTorch float tensors!"
   ]
  },
  {
   "cell_type": "code",
   "execution_count": 2,
   "id": "7303646c",
   "metadata": {},
   "outputs": [],
   "source": [
    "a = torch.FloatTensor([[1, 2],\n",
    "                      [3, 4]])"
   ]
  },
  {
   "cell_type": "code",
   "execution_count": 3,
   "id": "4bda9fb9",
   "metadata": {},
   "outputs": [],
   "source": [
    "b = torch.FloatTensor([[1, 2],\n",
    "                      [1, 2]])"
   ]
  },
  {
   "cell_type": "markdown",
   "id": "1c81c427",
   "metadata": {},
   "source": [
    "Matrix multiplication example"
   ]
  },
  {
   "cell_type": "code",
   "execution_count": 4,
   "id": "c80bdc63",
   "metadata": {},
   "outputs": [],
   "source": [
    "c = torch.matmul(a, b)"
   ]
  },
  {
   "cell_type": "code",
   "execution_count": 5,
   "id": "0f8e667a",
   "metadata": {},
   "outputs": [
    {
     "data": {
      "text/plain": [
       "tensor([[ 3.,  6.],\n",
       "        [ 7., 14.]])"
      ]
     },
     "execution_count": 5,
     "metadata": {},
     "output_type": "execute_result"
    }
   ],
   "source": [
    "c"
   ]
  },
  {
   "cell_type": "code",
   "execution_count": null,
   "id": "59143a5a",
   "metadata": {},
   "outputs": [],
   "source": []
  }
 ],
 "metadata": {
  "kernelspec": {
   "display_name": "Python 3",
   "language": "python",
   "name": "python3"
  },
  "language_info": {
   "codemirror_mode": {
    "name": "ipython",
    "version": 3
   },
   "file_extension": ".py",
   "mimetype": "text/x-python",
   "name": "python",
   "nbconvert_exporter": "python",
   "pygments_lexer": "ipython3",
   "version": "3.9.12"
  }
 },
 "nbformat": 4,
 "nbformat_minor": 5
}
